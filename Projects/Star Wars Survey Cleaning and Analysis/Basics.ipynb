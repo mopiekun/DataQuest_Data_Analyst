{
 "cells": [
  {
   "cell_type": "markdown",
   "metadata": {
    "collapsed": true
   },
   "source": [
    "# What Star Wars film is considered best?\n",
    "\n",
    "This project looks at a survey with 835 responses to identify beliefs and feelings about past Star Wars films."
   ]
  },
  {
   "cell_type": "code",
   "execution_count": 1,
   "metadata": {},
   "outputs": [],
   "source": [
    "import pandas as pd\n",
    "import numpy as np"
   ]
  },
  {
   "cell_type": "markdown",
   "metadata": {},
   "source": [
    "## Import Data"
   ]
  },
  {
   "cell_type": "code",
   "execution_count": 2,
   "metadata": {},
   "outputs": [
    {
     "name": "stdout",
     "output_type": "stream",
     "text": [
      "   RespondentID Have you seen any of the 6 films in the Star Wars franchise?  \\\n",
      "0    3292879998                                                Yes             \n",
      "1    3292879538                                                 No             \n",
      "2    3292765271                                                Yes             \n",
      "3    3292763116                                                Yes             \n",
      "4    3292731220                                                Yes             \n",
      "5    3292719380                                                Yes             \n",
      "6    3292684787                                                Yes             \n",
      "7    3292663732                                                Yes             \n",
      "8    3292654043                                                Yes             \n",
      "9    3292640424                                                Yes             \n",
      "\n",
      "  Do you consider yourself to be a fan of the Star Wars film franchise?  \\\n",
      "0                                                Yes                      \n",
      "1                                                NaN                      \n",
      "2                                                 No                      \n",
      "3                                                Yes                      \n",
      "4                                                Yes                      \n",
      "5                                                Yes                      \n",
      "6                                                Yes                      \n",
      "7                                                Yes                      \n",
      "8                                                Yes                      \n",
      "9                                                 No                      \n",
      "\n",
      "  Which of the following Star Wars films have you seen? Please select all that apply.  \\\n",
      "0           Star Wars: Episode I  The Phantom Menace                                    \n",
      "1                                                NaN                                    \n",
      "2           Star Wars: Episode I  The Phantom Menace                                    \n",
      "3           Star Wars: Episode I  The Phantom Menace                                    \n",
      "4           Star Wars: Episode I  The Phantom Menace                                    \n",
      "5           Star Wars: Episode I  The Phantom Menace                                    \n",
      "6           Star Wars: Episode I  The Phantom Menace                                    \n",
      "7           Star Wars: Episode I  The Phantom Menace                                    \n",
      "8           Star Wars: Episode I  The Phantom Menace                                    \n",
      "9                                                NaN                                    \n",
      "\n",
      "                                    Unnamed: 4  \\\n",
      "0  Star Wars: Episode II  Attack of the Clones   \n",
      "1                                          NaN   \n",
      "2  Star Wars: Episode II  Attack of the Clones   \n",
      "3  Star Wars: Episode II  Attack of the Clones   \n",
      "4  Star Wars: Episode II  Attack of the Clones   \n",
      "5  Star Wars: Episode II  Attack of the Clones   \n",
      "6  Star Wars: Episode II  Attack of the Clones   \n",
      "7  Star Wars: Episode II  Attack of the Clones   \n",
      "8  Star Wars: Episode II  Attack of the Clones   \n",
      "9  Star Wars: Episode II  Attack of the Clones   \n",
      "\n",
      "                                    Unnamed: 5  \\\n",
      "0  Star Wars: Episode III  Revenge of the Sith   \n",
      "1                                          NaN   \n",
      "2  Star Wars: Episode III  Revenge of the Sith   \n",
      "3  Star Wars: Episode III  Revenge of the Sith   \n",
      "4  Star Wars: Episode III  Revenge of the Sith   \n",
      "5  Star Wars: Episode III  Revenge of the Sith   \n",
      "6  Star Wars: Episode III  Revenge of the Sith   \n",
      "7  Star Wars: Episode III  Revenge of the Sith   \n",
      "8  Star Wars: Episode III  Revenge of the Sith   \n",
      "9                                          NaN   \n",
      "\n",
      "                          Unnamed: 6  \\\n",
      "0  Star Wars: Episode IV  A New Hope   \n",
      "1                                NaN   \n",
      "2                                NaN   \n",
      "3  Star Wars: Episode IV  A New Hope   \n",
      "4  Star Wars: Episode IV  A New Hope   \n",
      "5  Star Wars: Episode IV  A New Hope   \n",
      "6  Star Wars: Episode IV  A New Hope   \n",
      "7  Star Wars: Episode IV  A New Hope   \n",
      "8  Star Wars: Episode IV  A New Hope   \n",
      "9                                NaN   \n",
      "\n",
      "                                     Unnamed: 7  \\\n",
      "0  Star Wars: Episode V The Empire Strikes Back   \n",
      "1                                           NaN   \n",
      "2                                           NaN   \n",
      "3  Star Wars: Episode V The Empire Strikes Back   \n",
      "4  Star Wars: Episode V The Empire Strikes Back   \n",
      "5  Star Wars: Episode V The Empire Strikes Back   \n",
      "6  Star Wars: Episode V The Empire Strikes Back   \n",
      "7  Star Wars: Episode V The Empire Strikes Back   \n",
      "8  Star Wars: Episode V The Empire Strikes Back   \n",
      "9                                           NaN   \n",
      "\n",
      "                                 Unnamed: 8  \\\n",
      "0  Star Wars: Episode VI Return of the Jedi   \n",
      "1                                       NaN   \n",
      "2                                       NaN   \n",
      "3  Star Wars: Episode VI Return of the Jedi   \n",
      "4  Star Wars: Episode VI Return of the Jedi   \n",
      "5  Star Wars: Episode VI Return of the Jedi   \n",
      "6  Star Wars: Episode VI Return of the Jedi   \n",
      "7  Star Wars: Episode VI Return of the Jedi   \n",
      "8  Star Wars: Episode VI Return of the Jedi   \n",
      "9                                       NaN   \n",
      "\n",
      "   Please rank the Star Wars films in order of preference with 1 being your favorite film in the franchise and 6 being your least favorite film.  \\\n",
      "0                                                3.0                                                                                               \n",
      "1                                                NaN                                                                                               \n",
      "2                                                1.0                                                                                               \n",
      "3                                                5.0                                                                                               \n",
      "4                                                5.0                                                                                               \n",
      "5                                                1.0                                                                                               \n",
      "6                                                6.0                                                                                               \n",
      "7                                                4.0                                                                                               \n",
      "8                                                5.0                                                                                               \n",
      "9                                                1.0                                                                                               \n",
      "\n",
      "   ...         Unnamed: 28       Which character shot first?  \\\n",
      "0  ...      Very favorably  I don't understand this question   \n",
      "1  ...                 NaN                               NaN   \n",
      "2  ...    Unfamiliar (N/A)  I don't understand this question   \n",
      "3  ...      Very favorably  I don't understand this question   \n",
      "4  ...  Somewhat favorably                            Greedo   \n",
      "5  ...      Very favorably                               Han   \n",
      "6  ...      Very favorably                               Han   \n",
      "7  ...      Very favorably                               Han   \n",
      "8  ...  Somewhat favorably                               Han   \n",
      "9  ...      Very favorably  I don't understand this question   \n",
      "\n",
      "   Are you familiar with the Expanded Universe?  \\\n",
      "0                                           Yes   \n",
      "1                                           NaN   \n",
      "2                                            No   \n",
      "3                                            No   \n",
      "4                                           Yes   \n",
      "5                                           Yes   \n",
      "6                                           Yes   \n",
      "7                                            No   \n",
      "8                                            No   \n",
      "9                                            No   \n",
      "\n",
      "   Do you consider yourself to be a fan of the Expanded Universe?  \\\n",
      "0                                                 No                \n",
      "1                                                NaN                \n",
      "2                                                NaN                \n",
      "3                                                NaN                \n",
      "4                                                 No                \n",
      "5                                                 No                \n",
      "6                                                 No                \n",
      "7                                                NaN                \n",
      "8                                                NaN                \n",
      "9                                                NaN                \n",
      "\n",
      "   Do you consider yourself to be a fan of the Star Trek franchise? Gender  \\\n",
      "0                                                 No                  Male   \n",
      "1                                                Yes                  Male   \n",
      "2                                                 No                  Male   \n",
      "3                                                Yes                  Male   \n",
      "4                                                 No                  Male   \n",
      "5                                                Yes                  Male   \n",
      "6                                                 No                  Male   \n",
      "7                                                Yes                  Male   \n",
      "8                                                 No                  Male   \n",
      "9                                                 No                  Male   \n",
      "\n",
      "     Age     Household Income                         Education  \\\n",
      "0  18-29                  NaN                High school degree   \n",
      "1  18-29         $0 - $24,999                   Bachelor degree   \n",
      "2  18-29         $0 - $24,999                High school degree   \n",
      "3  18-29  $100,000 - $149,999  Some college or Associate degree   \n",
      "4  18-29  $100,000 - $149,999  Some college or Associate degree   \n",
      "5  18-29    $25,000 - $49,999                   Bachelor degree   \n",
      "6  18-29                  NaN                High school degree   \n",
      "7  18-29                  NaN                High school degree   \n",
      "8  18-29         $0 - $24,999  Some college or Associate degree   \n",
      "9  18-29    $25,000 - $49,999  Some college or Associate degree   \n",
      "\n",
      "  Location (Census Region)  \n",
      "0           South Atlantic  \n",
      "1       West South Central  \n",
      "2       West North Central  \n",
      "3       West North Central  \n",
      "4       West North Central  \n",
      "5          Middle Atlantic  \n",
      "6       East North Central  \n",
      "7           South Atlantic  \n",
      "8           South Atlantic  \n",
      "9                  Pacific  \n",
      "\n",
      "[10 rows x 38 columns]\n",
      "Index(['RespondentID',\n",
      "       'Have you seen any of the 6 films in the Star Wars franchise?',\n",
      "       'Do you consider yourself to be a fan of the Star Wars film franchise?',\n",
      "       'Which of the following Star Wars films have you seen? Please select all that apply.',\n",
      "       'Unnamed: 4', 'Unnamed: 5', 'Unnamed: 6', 'Unnamed: 7', 'Unnamed: 8',\n",
      "       'Please rank the Star Wars films in order of preference with 1 being your favorite film in the franchise and 6 being your least favorite film.',\n",
      "       'Unnamed: 10', 'Unnamed: 11', 'Unnamed: 12', 'Unnamed: 13',\n",
      "       'Unnamed: 14',\n",
      "       'Please state whether you view the following characters favorably, unfavorably, or are unfamiliar with him/her.',\n",
      "       'Unnamed: 16', 'Unnamed: 17', 'Unnamed: 18', 'Unnamed: 19',\n",
      "       'Unnamed: 20', 'Unnamed: 21', 'Unnamed: 22', 'Unnamed: 23',\n",
      "       'Unnamed: 24', 'Unnamed: 25', 'Unnamed: 26', 'Unnamed: 27',\n",
      "       'Unnamed: 28', 'Which character shot first?',\n",
      "       'Are you familiar with the Expanded Universe?',\n",
      "       'Do you consider yourself to be a fan of the Expanded Universe?',\n",
      "       'Do you consider yourself to be a fan of the Star Trek franchise?',\n",
      "       'Gender', 'Age', 'Household Income', 'Education',\n",
      "       'Location (Census Region)'],\n",
      "      dtype='object')\n",
      "RespondentID                                                                                                                                       int64\n",
      "Have you seen any of the 6 films in the Star Wars franchise?                                                                                      object\n",
      "Do you consider yourself to be a fan of the Star Wars film franchise?                                                                             object\n",
      "Which of the following Star Wars films have you seen? Please select all that apply.                                                               object\n",
      "Unnamed: 4                                                                                                                                        object\n",
      "Unnamed: 5                                                                                                                                        object\n",
      "Unnamed: 6                                                                                                                                        object\n",
      "Unnamed: 7                                                                                                                                        object\n",
      "Unnamed: 8                                                                                                                                        object\n",
      "Please rank the Star Wars films in order of preference with 1 being your favorite film in the franchise and 6 being your least favorite film.    float64\n",
      "Unnamed: 10                                                                                                                                      float64\n",
      "Unnamed: 11                                                                                                                                      float64\n",
      "Unnamed: 12                                                                                                                                      float64\n",
      "Unnamed: 13                                                                                                                                      float64\n",
      "Unnamed: 14                                                                                                                                      float64\n",
      "Please state whether you view the following characters favorably, unfavorably, or are unfamiliar with him/her.                                    object\n",
      "Unnamed: 16                                                                                                                                       object\n",
      "Unnamed: 17                                                                                                                                       object\n",
      "Unnamed: 18                                                                                                                                       object\n",
      "Unnamed: 19                                                                                                                                       object\n",
      "Unnamed: 20                                                                                                                                       object\n",
      "Unnamed: 21                                                                                                                                       object\n",
      "Unnamed: 22                                                                                                                                       object\n",
      "Unnamed: 23                                                                                                                                       object\n",
      "Unnamed: 24                                                                                                                                       object\n",
      "Unnamed: 25                                                                                                                                       object\n",
      "Unnamed: 26                                                                                                                                       object\n",
      "Unnamed: 27                                                                                                                                       object\n",
      "Unnamed: 28                                                                                                                                       object\n",
      "Which character shot first?                                                                                                                       object\n",
      "Are you familiar with the Expanded Universe?                                                                                                      object\n",
      "Do you consider yourself to be a fan of the Expanded Universe?                                                                                    object\n",
      "Do you consider yourself to be a fan of the Star Trek franchise?                                                                                  object\n",
      "Gender                                                                                                                                            object\n",
      "Age                                                                                                                                               object\n",
      "Household Income                                                                                                                                  object\n",
      "Education                                                                                                                                         object\n",
      "Location (Census Region)                                                                                                                          object\n",
      "dtype: object\n"
     ]
    }
   ],
   "source": [
    "star_wars = pd.read_csv(\"star_wars.csv\", encoding=\"ISO-8859-1\")\n",
    "print(star_wars.head(10))\n",
    "print(star_wars.columns)\n",
    "print(star_wars.dtypes)\n",
    "#make copy\n",
    "star_wars_c = star_wars.copy()"
   ]
  },
  {
   "cell_type": "markdown",
   "metadata": {},
   "source": [
    "Several columns are unnamed but used to reference which movies were seen including movie name or Nan. Each movie is put in order of favorite and compared to films from the Star Trek franchise."
   ]
  },
  {
   "cell_type": "markdown",
   "metadata": {},
   "source": [
    "### Change questions to boolean values"
   ]
  },
  {
   "cell_type": "code",
   "execution_count": 3,
   "metadata": {},
   "outputs": [],
   "source": [
    "#rename columns\n",
    "questions = {'Have you seen any of the 6 films in the Star Wars franchise?':'have_seen',\n",
    "            'Do you consider yourself to be a fan of the Star Wars film franchise?':'are_fan'}\n",
    "star_wars = star_wars.rename(columns=questions)"
   ]
  },
  {
   "cell_type": "code",
   "execution_count": 4,
   "metadata": {},
   "outputs": [
    {
     "name": "stdout",
     "output_type": "stream",
     "text": [
      "Yes    936\n",
      "No     250\n",
      "Name: have_seen, dtype: int64\n",
      "Yes    552\n",
      "NaN    350\n",
      "No     284\n",
      "Name: are_fan, dtype: int64\n"
     ]
    }
   ],
   "source": [
    "# Check values for both questions\n",
    "print(star_wars['have_seen'].value_counts(dropna=False))\n",
    "print(star_wars['are_fan'].value_counts(dropna=False))"
   ]
  },
  {
   "cell_type": "code",
   "execution_count": 5,
   "metadata": {},
   "outputs": [
    {
     "name": "stdout",
     "output_type": "stream",
     "text": [
      "   RespondentID  have_seen are_fan  \\\n",
      "0    3292879998       True    True   \n",
      "1    3292879538      False     NaN   \n",
      "2    3292765271       True   False   \n",
      "3    3292763116       True    True   \n",
      "4    3292731220       True    True   \n",
      "5    3292719380       True    True   \n",
      "6    3292684787       True    True   \n",
      "7    3292663732       True    True   \n",
      "8    3292654043       True    True   \n",
      "9    3292640424       True   False   \n",
      "\n",
      "  Which of the following Star Wars films have you seen? Please select all that apply.  \\\n",
      "0           Star Wars: Episode I  The Phantom Menace                                    \n",
      "1                                                NaN                                    \n",
      "2           Star Wars: Episode I  The Phantom Menace                                    \n",
      "3           Star Wars: Episode I  The Phantom Menace                                    \n",
      "4           Star Wars: Episode I  The Phantom Menace                                    \n",
      "5           Star Wars: Episode I  The Phantom Menace                                    \n",
      "6           Star Wars: Episode I  The Phantom Menace                                    \n",
      "7           Star Wars: Episode I  The Phantom Menace                                    \n",
      "8           Star Wars: Episode I  The Phantom Menace                                    \n",
      "9                                                NaN                                    \n",
      "\n",
      "                                    Unnamed: 4  \\\n",
      "0  Star Wars: Episode II  Attack of the Clones   \n",
      "1                                          NaN   \n",
      "2  Star Wars: Episode II  Attack of the Clones   \n",
      "3  Star Wars: Episode II  Attack of the Clones   \n",
      "4  Star Wars: Episode II  Attack of the Clones   \n",
      "5  Star Wars: Episode II  Attack of the Clones   \n",
      "6  Star Wars: Episode II  Attack of the Clones   \n",
      "7  Star Wars: Episode II  Attack of the Clones   \n",
      "8  Star Wars: Episode II  Attack of the Clones   \n",
      "9  Star Wars: Episode II  Attack of the Clones   \n",
      "\n",
      "                                    Unnamed: 5  \\\n",
      "0  Star Wars: Episode III  Revenge of the Sith   \n",
      "1                                          NaN   \n",
      "2  Star Wars: Episode III  Revenge of the Sith   \n",
      "3  Star Wars: Episode III  Revenge of the Sith   \n",
      "4  Star Wars: Episode III  Revenge of the Sith   \n",
      "5  Star Wars: Episode III  Revenge of the Sith   \n",
      "6  Star Wars: Episode III  Revenge of the Sith   \n",
      "7  Star Wars: Episode III  Revenge of the Sith   \n",
      "8  Star Wars: Episode III  Revenge of the Sith   \n",
      "9                                          NaN   \n",
      "\n",
      "                          Unnamed: 6  \\\n",
      "0  Star Wars: Episode IV  A New Hope   \n",
      "1                                NaN   \n",
      "2                                NaN   \n",
      "3  Star Wars: Episode IV  A New Hope   \n",
      "4  Star Wars: Episode IV  A New Hope   \n",
      "5  Star Wars: Episode IV  A New Hope   \n",
      "6  Star Wars: Episode IV  A New Hope   \n",
      "7  Star Wars: Episode IV  A New Hope   \n",
      "8  Star Wars: Episode IV  A New Hope   \n",
      "9                                NaN   \n",
      "\n",
      "                                     Unnamed: 7  \\\n",
      "0  Star Wars: Episode V The Empire Strikes Back   \n",
      "1                                           NaN   \n",
      "2                                           NaN   \n",
      "3  Star Wars: Episode V The Empire Strikes Back   \n",
      "4  Star Wars: Episode V The Empire Strikes Back   \n",
      "5  Star Wars: Episode V The Empire Strikes Back   \n",
      "6  Star Wars: Episode V The Empire Strikes Back   \n",
      "7  Star Wars: Episode V The Empire Strikes Back   \n",
      "8  Star Wars: Episode V The Empire Strikes Back   \n",
      "9                                           NaN   \n",
      "\n",
      "                                 Unnamed: 8  \\\n",
      "0  Star Wars: Episode VI Return of the Jedi   \n",
      "1                                       NaN   \n",
      "2                                       NaN   \n",
      "3  Star Wars: Episode VI Return of the Jedi   \n",
      "4  Star Wars: Episode VI Return of the Jedi   \n",
      "5  Star Wars: Episode VI Return of the Jedi   \n",
      "6  Star Wars: Episode VI Return of the Jedi   \n",
      "7  Star Wars: Episode VI Return of the Jedi   \n",
      "8  Star Wars: Episode VI Return of the Jedi   \n",
      "9                                       NaN   \n",
      "\n",
      "   Please rank the Star Wars films in order of preference with 1 being your favorite film in the franchise and 6 being your least favorite film.  \\\n",
      "0                                                3.0                                                                                               \n",
      "1                                                NaN                                                                                               \n",
      "2                                                1.0                                                                                               \n",
      "3                                                5.0                                                                                               \n",
      "4                                                5.0                                                                                               \n",
      "5                                                1.0                                                                                               \n",
      "6                                                6.0                                                                                               \n",
      "7                                                4.0                                                                                               \n",
      "8                                                5.0                                                                                               \n",
      "9                                                1.0                                                                                               \n",
      "\n",
      "   ...         Unnamed: 28       Which character shot first?  \\\n",
      "0  ...      Very favorably  I don't understand this question   \n",
      "1  ...                 NaN                               NaN   \n",
      "2  ...    Unfamiliar (N/A)  I don't understand this question   \n",
      "3  ...      Very favorably  I don't understand this question   \n",
      "4  ...  Somewhat favorably                            Greedo   \n",
      "5  ...      Very favorably                               Han   \n",
      "6  ...      Very favorably                               Han   \n",
      "7  ...      Very favorably                               Han   \n",
      "8  ...  Somewhat favorably                               Han   \n",
      "9  ...      Very favorably  I don't understand this question   \n",
      "\n",
      "   Are you familiar with the Expanded Universe?  \\\n",
      "0                                           Yes   \n",
      "1                                           NaN   \n",
      "2                                            No   \n",
      "3                                            No   \n",
      "4                                           Yes   \n",
      "5                                           Yes   \n",
      "6                                           Yes   \n",
      "7                                            No   \n",
      "8                                            No   \n",
      "9                                            No   \n",
      "\n",
      "   Do you consider yourself to be a fan of the Expanded Universe?  \\\n",
      "0                                                 No                \n",
      "1                                                NaN                \n",
      "2                                                NaN                \n",
      "3                                                NaN                \n",
      "4                                                 No                \n",
      "5                                                 No                \n",
      "6                                                 No                \n",
      "7                                                NaN                \n",
      "8                                                NaN                \n",
      "9                                                NaN                \n",
      "\n",
      "   Do you consider yourself to be a fan of the Star Trek franchise? Gender  \\\n",
      "0                                                 No                  Male   \n",
      "1                                                Yes                  Male   \n",
      "2                                                 No                  Male   \n",
      "3                                                Yes                  Male   \n",
      "4                                                 No                  Male   \n",
      "5                                                Yes                  Male   \n",
      "6                                                 No                  Male   \n",
      "7                                                Yes                  Male   \n",
      "8                                                 No                  Male   \n",
      "9                                                 No                  Male   \n",
      "\n",
      "     Age     Household Income                         Education  \\\n",
      "0  18-29                  NaN                High school degree   \n",
      "1  18-29         $0 - $24,999                   Bachelor degree   \n",
      "2  18-29         $0 - $24,999                High school degree   \n",
      "3  18-29  $100,000 - $149,999  Some college or Associate degree   \n",
      "4  18-29  $100,000 - $149,999  Some college or Associate degree   \n",
      "5  18-29    $25,000 - $49,999                   Bachelor degree   \n",
      "6  18-29                  NaN                High school degree   \n",
      "7  18-29                  NaN                High school degree   \n",
      "8  18-29         $0 - $24,999  Some college or Associate degree   \n",
      "9  18-29    $25,000 - $49,999  Some college or Associate degree   \n",
      "\n",
      "  Location (Census Region)  \n",
      "0           South Atlantic  \n",
      "1       West South Central  \n",
      "2       West North Central  \n",
      "3       West North Central  \n",
      "4       West North Central  \n",
      "5          Middle Atlantic  \n",
      "6       East North Central  \n",
      "7           South Atlantic  \n",
      "8           South Atlantic  \n",
      "9                  Pacific  \n",
      "\n",
      "[10 rows x 38 columns]\n"
     ]
    }
   ],
   "source": [
    "#Convert the Have you seen any of the 6 films in the \n",
    "# Star Wars franchise? column to the Boolean type\n",
    "\n",
    "make_bool = {'Yes': True,\n",
    "            'No': False}\n",
    "star_wars['have_seen'] = star_wars['have_seen'].map(make_bool)\n",
    "star_wars['are_fan'] = star_wars['are_fan'].map(make_bool)\n",
    "print(star_wars.head(10))"
   ]
  },
  {
   "cell_type": "markdown",
   "metadata": {},
   "source": [
    "## Clean Episodes Seen"
   ]
  },
  {
   "cell_type": "code",
   "execution_count": 6,
   "metadata": {},
   "outputs": [
    {
     "name": "stdout",
     "output_type": "stream",
     "text": [
      "Star Wars: Episode I  The Phantom Menace    673\n",
      "NaN                                         513\n",
      "Name: seen_1, dtype: int64\n",
      "NaN                                            615\n",
      "Star Wars: Episode II  Attack of the Clones    571\n",
      "Name: seen_2, dtype: int64\n",
      "NaN                                            636\n",
      "Star Wars: Episode III  Revenge of the Sith    550\n",
      "Name: seen_3, dtype: int64\n",
      "Star Wars: Episode IV  A New Hope    607\n",
      "NaN                                  579\n",
      "Name: seen_4, dtype: int64\n",
      "Star Wars: Episode V The Empire Strikes Back    758\n",
      "NaN                                             428\n",
      "Name: seen_5, dtype: int64\n",
      "Star Wars: Episode VI Return of the Jedi    738\n",
      "NaN                                         448\n",
      "Name: seen_6, dtype: int64\n"
     ]
    }
   ],
   "source": [
    "#Name columns\n",
    "cols = {\"Which of the following Star Wars films have you seen? Please select all that apply.\":'seen_1',\n",
    "        'Unnamed: 4':'seen_2',\n",
    "        'Unnamed: 5':'seen_3',\n",
    "        'Unnamed: 6':'seen_4',\n",
    "        'Unnamed: 7':'seen_5',\n",
    "        'Unnamed: 8':'seen_6'}\n",
    "star_wars = star_wars.rename(columns = cols)\n",
    "for col in star_wars.columns[3:9]:\n",
    "    print(star_wars[col].value_counts(dropna=False))"
   ]
  },
  {
   "cell_type": "code",
   "execution_count": 7,
   "metadata": {},
   "outputs": [
    {
     "name": "stdout",
     "output_type": "stream",
     "text": [
      "True     673\n",
      "False    513\n",
      "Name: seen_1, dtype: int64\n",
      "False    615\n",
      "True     571\n",
      "Name: seen_2, dtype: int64\n",
      "False    636\n",
      "True     550\n",
      "Name: seen_3, dtype: int64\n",
      "True     607\n",
      "False    579\n",
      "Name: seen_4, dtype: int64\n",
      "True     758\n",
      "False    428\n",
      "Name: seen_5, dtype: int64\n",
      "True     738\n",
      "False    448\n",
      "Name: seen_6, dtype: int64\n"
     ]
    }
   ],
   "source": [
    "#Change episodes to seen or not, Nans defined as not seen (False)\n",
    "seen_bool_map = {\"Star Wars: Episode I  The Phantom Menace\": True,\n",
    "                 \"Star Wars: Episode II  Attack of the Clones\": True,\n",
    "                 \"Star Wars: Episode III  Revenge of the Sith\": True,\n",
    "                 \"Star Wars: Episode IV  A New Hope\": True,\n",
    "                 \"Star Wars: Episode V The Empire Strikes Back\": True,\n",
    "                 \"Star Wars: Episode VI Return of the Jedi\": True}\n",
    "seen_bool_map[np.nan]=False\n",
    "for col in star_wars.columns[3:9]:\n",
    "    star_wars[col]=star_wars[col].map(seen_bool_map)\n",
    "    print(star_wars[col].value_counts(dropna=False))\n"
   ]
  },
  {
   "cell_type": "markdown",
   "metadata": {},
   "source": [
    "## Clean Episode Ratings"
   ]
  },
  {
   "cell_type": "code",
   "execution_count": 8,
   "metadata": {},
   "outputs": [],
   "source": [
    "#Convert each preference of film to float\n",
    "star_wars[star_wars.columns[9:15]] = star_wars[\n",
    "    star_wars.columns[9:15]].astype('float')"
   ]
  },
  {
   "cell_type": "code",
   "execution_count": 9,
   "metadata": {},
   "outputs": [],
   "source": [
    "#Name columns\n",
    "cols = {\"Please rank the Star Wars films in order of preference with 1 being your favorite film in the franchise and 6 being your least favorite film.\":'ranking_1',\n",
    "        'Unnamed: 10':'ranking_2',\n",
    "        'Unnamed: 11':'ranking_3',\n",
    "        'Unnamed: 12':'ranking_4',\n",
    "        'Unnamed: 13':'ranking_5',\n",
    "        'Unnamed: 14':'ranking_6'}\n",
    "star_wars = star_wars.rename(columns = cols)"
   ]
  },
  {
   "cell_type": "code",
   "execution_count": 10,
   "metadata": {},
   "outputs": [
    {
     "name": "stdout",
     "output_type": "stream",
     "text": [
      "ranking_1    3.732934\n",
      "ranking_2    4.087321\n",
      "ranking_3    4.341317\n",
      "ranking_4    3.272727\n",
      "ranking_5    2.513158\n",
      "ranking_6    3.047847\n",
      "dtype: float64\n"
     ]
    }
   ],
   "source": [
    "# Average each Ranking\n",
    "rankings_means = star_wars[star_wars.columns[9:15]].mean()\n",
    "print(rankings_means)"
   ]
  },
  {
   "cell_type": "markdown",
   "metadata": {},
   "source": [
    "## Plot bar chart of seen episodes"
   ]
  },
  {
   "cell_type": "code",
   "execution_count": 11,
   "metadata": {},
   "outputs": [],
   "source": [
    "import matplotlib.pyplot as plt\n",
    "%matplotlib inline"
   ]
  },
  {
   "cell_type": "code",
   "execution_count": 12,
   "metadata": {},
   "outputs": [
    {
     "data": {
      "text/plain": [
       "([<matplotlib.axis.XTick at 0x7fbbf40f5cd0>,\n",
       "  <matplotlib.axis.XTick at 0x7fbbf40f5ca0>,\n",
       "  <matplotlib.axis.XTick at 0x7fbbf407c370>,\n",
       "  <matplotlib.axis.XTick at 0x7fbbf409da30>,\n",
       "  <matplotlib.axis.XTick at 0x7fbbf409df10>,\n",
       "  <matplotlib.axis.XTick at 0x7fbbf40313d0>],\n",
       " [Text(0, 0, 'Episode 1'),\n",
       "  Text(0, 0, 'Episode 2'),\n",
       "  Text(0, 0, 'Episode 3'),\n",
       "  Text(0, 0, 'Episode 4'),\n",
       "  Text(0, 0, 'Episode 5'),\n",
       "  Text(0, 0, 'Episode 6')])"
      ]
     },
     "execution_count": 12,
     "metadata": {},
     "output_type": "execute_result"
    },
    {
     "data": {
      "image/png": "[encoded data removed]",
      "text/plain": [
       "<Figure size 600x400 with 1 Axes>"
      ]
     },
     "metadata": {},
     "output_type": "display_data"
    }
   ],
   "source": [
    "#create labels\n",
    "episodes = []\n",
    "for i in range(6) :\n",
    "    episodes.append(\"Episode \" + str(i+1))\n",
    "xlabels = episodes\n",
    "\n",
    "rankings_means.plot.bar()\n",
    "plt.title('Mean Episode Rankings')\n",
    "plt.xlabel('Lower Ranking Means Higher Ranked')\n",
    "plt.ylabel('Mean Ranking')\n",
    "plt.xticks(ticks = range(len(rankings_means)),labels=xlabels, rotation = 30)"
   ]
  },
  {
   "cell_type": "markdown",
   "metadata": {},
   "source": [
    "Lower ranking means best and Emprie Strikes Back (ranking_5) is rated the highest movie followed by episode 6 and episode 4. Episode 3 is the least liked movie."
   ]
  },
  {
   "cell_type": "markdown",
   "metadata": {},
   "source": [
    "## Plotting Movies Seen"
   ]
  },
  {
   "cell_type": "code",
   "execution_count": 13,
   "metadata": {},
   "outputs": [
    {
     "data": {
      "text/plain": [
       "([<matplotlib.axis.XTick at 0x7fbbf54740a0>,\n",
       "  <matplotlib.axis.XTick at 0x7fbbf5474070>,\n",
       "  <matplotlib.axis.XTick at 0x7fbbf45b5460>,\n",
       "  <matplotlib.axis.XTick at 0x7fbbf45c3b20>,\n",
       "  <matplotlib.axis.XTick at 0x7fbbf45c3550>,\n",
       "  <matplotlib.axis.XTick at 0x7fbbf45d15b0>],\n",
       " [Text(0, 0, 'Episode 1'),\n",
       "  Text(0, 0, 'Episode 2'),\n",
       "  Text(0, 0, 'Episode 3'),\n",
       "  Text(0, 0, 'Episode 4'),\n",
       "  Text(0, 0, 'Episode 5'),\n",
       "  Text(0, 0, 'Episode 6')])"
      ]
     },
     "execution_count": 13,
     "metadata": {},
     "output_type": "execute_result"
    },
    {
     "data": {
      "image/png": "[encoded data removed]",
      "text/plain": [
       "<Figure size 600x400 with 1 Axes>"
      ]
     },
     "metadata": {},
     "output_type": "display_data"
    }
   ],
   "source": [
    "episodes_seen = star_wars[star_wars.columns[3:9]].sum()\n",
    "\n",
    "episodes_seen.plot.bar()\n",
    "plt.title('Episode Viewings')\n",
    "plt.ylabel('Views')\n",
    "plt.xticks(ticks = range(len(episodes_seen)),labels=xlabels, rotation = 30)"
   ]
  },
  {
   "cell_type": "markdown",
   "metadata": {},
   "source": [
    "Episode 5 was seen the most followed by Episode 6. Episode 3 and Episode 2 were viewed the fewest times. Views seem to correlate well with rating as higher rated movies were watched more and lower rated movies were watched less."
   ]
  },
  {
   "cell_type": "markdown",
   "metadata": {},
   "source": [
    "## Star Wars Patterns with Gender"
   ]
  },
  {
   "cell_type": "code",
   "execution_count": 14,
   "metadata": {},
   "outputs": [],
   "source": [
    "males = star_wars[star_wars[\"Gender\"] == \"Male\"]\n",
    "females = star_wars[star_wars[\"Gender\"] == \"Female\"]"
   ]
  },
  {
   "cell_type": "code",
   "execution_count": 35,
   "metadata": {},
   "outputs": [
    {
     "data": {
      "image/png": "[encoded data removed]",
      "text/plain": [
       "<Figure size 600x400 with 1 Axes>"
      ]
     },
     "metadata": {},
     "output_type": "display_data"
    }
   ],
   "source": [
    "#Rating by gender\n",
    "# Average each Ranking\n",
    "male_rank = males[males.columns[9:15]].mean()\n",
    "female_rank = females[females.columns[9:15]].mean()\n",
    "\n",
    "\n",
    "fig, ax1 = plt.subplots()\n",
    "\n",
    "x = np.arange(len(xlabels))  # the label locations\n",
    "width = 0.35  # the width of the bars\n",
    "\n",
    "rects1 = ax1.bar(x - width/2, male_rank, width, label='Males')\n",
    "rects2 = ax1.bar(x + width/2, female_rank, width, label='Females')\n",
    "\n",
    "ax1.set_title(\"Star Wars Favorites by Gender\")\n",
    "ax1.set_ylabel(\"Mean Ranking\\n(Lowest Relative Value = Favorite) by Gender\", fontsize='small')\n",
    "ax1.set_xlabel(\"Episodes\")\n",
    "ax1.set_xticks(x)\n",
    "ax1.set_xticklabels(xlabels)\n",
    "ax1.set_facecolor('white')\n",
    "ax1.grid(None)\n",
    "ax1.legend(loc='center right', bbox_to_anchor=(0.9, 0.8), edgecolor='white', facecolor='white')\n",
    "\n",
    "plt.show()"
   ]
  },
  {
   "cell_type": "code",
   "execution_count": 36,
   "metadata": {},
   "outputs": [
    {
     "data": {
      "image/png": "[encoded data removed]",
      "text/plain": [
       "<Figure size 600x400 with 1 Axes>"
      ]
     },
     "metadata": {},
     "output_type": "display_data"
    }
   ],
   "source": [
    "#Seen by gender\n",
    "male_seen = males[males.columns[3:9]].sum()\n",
    "female_seen = females[females.columns[3:9]].sum()\n",
    "\n",
    "\n",
    "fig, ax1 = plt.subplots()\n",
    "\n",
    "x = np.arange(len(xlabels))  # the label locations\n",
    "width = 0.35  # the width of the bars\n",
    "\n",
    "rects1 = ax1.bar(x - width/2, male_seen, width, label='Males')\n",
    "rects2 = ax1.bar(x + width/2, female_seen, width, label='Females')\n",
    "\n",
    "ax1.set_title(\"Star Wars Episodes Seen by Gender\")\n",
    "ax1.set_ylabel(\"Episodes Seen\", fontsize='small')\n",
    "ax1.set_xlabel(\"Episodes\")\n",
    "ax1.set_xticks(x)\n",
    "ax1.set_xticklabels(xlabels)\n",
    "ax1.set_facecolor('white')\n",
    "ax1.grid(None)\n",
    "ax1.legend(loc='center right', bbox_to_anchor=(0.5, 0.9), edgecolor='white', facecolor='white')\n",
    "\n",
    "plt.show()"
   ]
  },
  {
   "cell_type": "markdown",
   "metadata": {},
   "source": [
    "Males tend to watch Star Wars more "
   ]
  }
 ],
 "metadata": {
  "kernelspec": {
   "display_name": "Python 3",
   "language": "python",
   "name": "python3"
  },
  "language_info": {
   "codemirror_mode": {
    "name": "ipython",
    "version": 3
   },
   "file_extension": ".py",
   "mimetype": "text/x-python",
   "name": "python",
   "nbconvert_exporter": "python",
   "pygments_lexer": "ipython3",
   "version": "3.8.2"
  }
 },
 "nbformat": 4,
 "nbformat_minor": 1
}
